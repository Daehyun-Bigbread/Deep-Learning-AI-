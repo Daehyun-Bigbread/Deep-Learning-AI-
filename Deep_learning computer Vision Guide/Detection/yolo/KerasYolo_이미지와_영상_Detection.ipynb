{
 "cells": [
  {
   "cell_type": "markdown",
   "metadata": {},
   "source": [
    "### keras-yolo3 패키지를 이용하여 Yolo와 tiny Yolo 기반으로 이미지와 영상 Object Detection 수행\n",
    "* 다크넷에서 Pretrained된 yolo/tiny-yolo weights 모델을 다운로드\n",
    "* 다운로드한 다크넷 weight 파일을 기반으로 keras-yolo3에서 사용할 수 있는 weight 파일로 변환 후 이를 이용하여 Object Detection 수행"
   ]
  },
  {
   "cell_type": "code",
   "execution_count": null,
   "metadata": {},
   "outputs": [],
   "source": [
    "import os\n",
    "import sys\n",
    "import random\n",
    "import math\n",
    "import time\n",
    "import numpy as np\n",
    "import tensorflow as tf\n",
    "import matplotlib\n",
    "import matplotlib.pyplot as plt"
   ]
  },
  {
   "cell_type": "markdown",
   "metadata": {},
   "source": [
    "#### Local Directory 상에서 yolo package를 import 함. \n",
    "* keras-yolo3는 setup을 제공하지 않으므로 local directory상에서 바로 package를 import함. \n",
    "* 이를 위해 keras-yolo3를 system path에 추가  \n",
    "* keras-yolo3 디렉토리에 있는 yolo.py에서 YOLO class를 import하여 사용. "
   ]
  },
  {
   "cell_type": "code",
   "execution_count": null,
   "metadata": {},
   "outputs": [],
   "source": [
    "LOCAL_PACKAGE_DIR = os.path.abspath(\"./keras-yolo3\")\n",
    "sys.path.append(LOCAL_PACKAGE_DIR)\n",
    "\n",
    "from yolo import YOLO"
   ]
  },
  {
   "cell_type": "code",
   "execution_count": null,
   "metadata": {},
   "outputs": [],
   "source": [
    "# YOLO 클래스는 model_path, achors_path, classes_path를 model_data 밑에 파일로 가짐. 변경을 위해서는 yolo.py 파일에서 YOLO 클래스코드를  직접 변경 필요. \n",
    "\n",
    "print(LOCAL_PACKAGE_DIR)\n",
    "!ls /home/chulmin.kwon45/DLCV/Detection/yolo/keras-yolo3\n",
    "!cat /home/chulmin.kwon45/DLCV/Detection/yolo/keras-yolo3/yolo.py"
   ]
  },
  {
   "cell_type": "markdown",
   "metadata": {},
   "source": [
    "#### YOLO 객체를 사용하기 위한 모델 파일 설정 및 소스 코드 변경\n",
    "* 다크넷에서 Yolo V3 Weight 모델 파일을 다운로드 받은 뒤 이를 keras-yolo3용으로 모델 파일 변경\n",
    "* model_data 디렉토리 밑에 yolo_anchors.txt, coco_classes.txt 가 있는지 확인.\n"
   ]
  },
  {
   "cell_type": "code",
   "execution_count": null,
   "metadata": {},
   "outputs": [],
   "source": [
    "# keras-yolo3 디렉토리 밑에서 아래 명령어로 다크넷에서 Yolov3 weight를 다운로드 받고 이를 keras-yolo3용으로 모델 파일 변경\n",
    "#!wget https://pjreddie.com/media/files/yolov3.weights\n",
    "#!python convert.py yolov3.cfg yolov3.weights model_data/yolo.h5\n",
    "# convert.py를 수행하면 yolo anchor값이 yolo_anchors.txt 파일이 자동으로 생성됨. \n",
    "# coco label과 클래스 매핑은 0부터 매핑함.(0 => person)"
   ]
  },
  {
   "cell_type": "code",
   "execution_count": null,
   "metadata": {},
   "outputs": [],
   "source": [
    "import sys\n",
    "import argparse\n",
    "from yolo import YOLO, detect_video\n",
    "#keras-yolo에서 image처리를 주요 PIL로 수행. \n",
    "from PIL import Image\n",
    "\n",
    "# YOLO 객체 생성. config는 default로 keras-yolo3 디렉토리에 있는 yolov3.cfg를 적용. \n",
    "config_dict = {}\n",
    "yolo = YOLO(model_path='~/DLCV/Detection/yolo/keras-yolo3/model_data/yolo.h5',\n",
    "            anchors_path='~/DLCV/Detection/yolo/keras-yolo3/model_data/yolo_anchors.txt',\n",
    "            classes_path='~/DLCV/Detection/yolo/keras-yolo3/model_data/coco_classes.txt')"
   ]
  },
  {
   "cell_type": "markdown",
   "metadata": {},
   "source": [
    "#### 단일 이미지 Object Detection "
   ]
  },
  {
   "cell_type": "code",
   "execution_count": null,
   "metadata": {},
   "outputs": [],
   "source": [
    "# 원본 이미지 보기 \n",
    "img = Image.open(os.path.join('../../data/image/beatles01.jpg'))\n",
    "\n",
    "plt.figure(figsize=(12, 12))\n",
    "plt.imshow(img)"
   ]
  },
  {
   "cell_type": "code",
   "execution_count": null,
   "metadata": {},
   "outputs": [],
   "source": [
    "# yolo.detect_image() 메소드는 PIL package를 이용하여 image 작업 수행. keras-yolo3/font 디렉토리를 상위 디렉토리로 복사 해야함.  "
   ]
  },
  {
   "cell_type": "code",
   "execution_count": null,
   "metadata": {},
   "outputs": [],
   "source": [
    "img = Image.open(os.path.join('../../data/image/beatles01.jpg'))\n",
    "detected_img = yolo.detect_image(img)\n",
    "\n",
    "plt.figure(figsize=(12, 12))\n",
    "plt.imshow(detected_img)"
   ]
  },
  {
   "cell_type": "markdown",
   "metadata": {},
   "source": [
    "### Video Object Detection 수행"
   ]
  },
  {
   "cell_type": "code",
   "execution_count": null,
   "metadata": {},
   "outputs": [],
   "source": [
    "import cv2\n",
    "import time\n",
    "\n",
    "def detect_video_yolo(model, input_path, output_path=\"\"):\n",
    "    \n",
    "    start = time.time()\n",
    "    cap = cv2.VideoCapture(input_path)\n",
    "    \n",
    "    #codec = cv2.VideoWriter_fourcc(*'DIVX')\n",
    "    codec = cv2.VideoWriter_fourcc(*'XVID')\n",
    "    vid_fps = cap.get(cv2.CAP_PROP_FPS)\n",
    "    vid_size = (int(cap.get(cv2.CAP_PROP_FRAME_WIDTH)),int(cap.get(cv2.CAP_PROP_FRAME_HEIGHT)))\n",
    "    vid_writer = cv2.VideoWriter(output_path, codec, vid_fps, vid_size)\n",
    "    \n",
    "    frame_cnt = int(cap.get(cv2.CAP_PROP_FRAME_COUNT))\n",
    "    print('총 Frame 갯수:', frame_cnt, '원본 영상 FPS:',vid_fps)\n",
    "    index = 0\n",
    "    while True:\n",
    "        hasFrame, image_frame = cap.read()\n",
    "        if not hasFrame:\n",
    "            print('프레임이 없거나 종료 되었습니다.')\n",
    "            break\n",
    "        start = time.time()\n",
    "        # PIL Package를 내부에서 사용하므로 cv2에서 읽은 image_frame array를 다시 PIL의 Image형태로 변환해야 함.  \n",
    "        image = Image.fromarray(image_frame)\n",
    "        # 아래는 인자로 입력된 yolo객체의 detect_image()로 변환한다.\n",
    "        detected_image = model.detect_image(image)\n",
    "        # cv2의 video writer로 출력하기 위해 다시 PIL의 Image형태를 array형태로 변환 \n",
    "        result = np.asarray(detected_image)\n",
    "        index +=1\n",
    "        print('#### frame:{0} 이미지 처리시간:{1}'.format(index, round(time.time()-start,3)))\n",
    "        \n",
    "        vid_writer.write(result)\n",
    "    \n",
    "    vid_writer.release()\n",
    "    cap.release()\n",
    "    print('### Video Detect 총 수행시간:', round(time.time()-start, 5))"
   ]
  },
  {
   "cell_type": "code",
   "execution_count": null,
   "metadata": {},
   "outputs": [],
   "source": [
    "detect_video_yolo(yolo, '../../data/video/Night_Day_Chase.mp4', '../../data/output/Night_Day_Chase_yolo_01.avi')"
   ]
  },
  {
   "cell_type": "markdown",
   "metadata": {},
   "source": [
    "### tiny Yolo를 이용하여 이미지와 영상 object detection 수행. \n",
    "* tiny yolo weights파일은 https://pjreddie.com/media/files/yolov3-tiny.weights 에서 다운로드 받을 수 있음. \n",
    "* 다운로드 받은 tiny-yolo weight파일을 keras-yolo3에서 사용할 수 있게 Convert 수행 후 YOLO객체에서 로딩하여 사용 "
   ]
  },
  {
   "cell_type": "code",
   "execution_count": null,
   "metadata": {},
   "outputs": [],
   "source": [
    "# wget https://pjreddie.com/media/files/yolov3-tiny.weights\n",
    "#!python convert.py yolov3-tiny.cfg ./model_data/yolov3-tiny.weights model_data/yolo-tiny.h5"
   ]
  },
  {
   "cell_type": "markdown",
   "metadata": {},
   "source": [
    "#### tiny yolo weight 파일과 anchor 파일, coco 클래스 파일을 YOLO 객체 생성 시 인자로 입력"
   ]
  },
  {
   "cell_type": "code",
   "execution_count": null,
   "metadata": {},
   "outputs": [],
   "source": [
    "tiny_yolo = YOLO(model_path='~/DLCV/Detection/yolo/keras-yolo3/model_data/yolo-tiny.h5',\n",
    "            anchors_path='~/DLCV/Detection/yolo/keras-yolo3/model_data/tiny_yolo_anchors.txt',\n",
    "            classes_path='~/DLCV/Detection/yolo/keras-yolo3/model_data/coco_classes.txt')"
   ]
  },
  {
   "cell_type": "markdown",
   "metadata": {},
   "source": [
    "#### 단일 이미지 Object Detection"
   ]
  },
  {
   "cell_type": "code",
   "execution_count": null,
   "metadata": {},
   "outputs": [],
   "source": [
    "img = Image.open(os.path.join('../../data/image/beatles01.jpg'))\n",
    "detected_img = tiny_yolo.detect_image(img)\n",
    "\n",
    "plt.figure(figsize=(12, 12))\n",
    "plt.imshow(detected_img)"
   ]
  },
  {
   "cell_type": "markdown",
   "metadata": {},
   "source": [
    "#### Video Object Detection"
   ]
  },
  {
   "cell_type": "code",
   "execution_count": null,
   "metadata": {},
   "outputs": [],
   "source": [
    "detect_video_yolo(tiny_yolo, '../../data/video/secretlife_pet.mp4', '../../data/output/secretlife_pet_yolo01.avi')"
   ]
  }
 ],
 "metadata": {
  "kernelspec": {
   "display_name": "Python [conda env:tf113] *",
   "language": "python",
   "name": "conda-env-tf113-py"
  },
  "language_info": {
   "codemirror_mode": {
    "name": "ipython",
    "version": 3
   },
   "file_extension": ".py",
   "mimetype": "text/x-python",
   "name": "python",
   "nbconvert_exporter": "python",
   "pygments_lexer": "ipython3",
   "version": "3.6.10"
  }
 },
 "nbformat": 4,
 "nbformat_minor": 4
}
