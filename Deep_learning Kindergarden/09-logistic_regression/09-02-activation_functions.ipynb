{
 "cells": [
  {
   "cell_type": "markdown",
   "metadata": {},
   "source": [
    "# Activation Functions"
   ]
  },
  {
   "cell_type": "code",
   "execution_count": 1,
   "metadata": {},
   "outputs": [],
   "source": [
    "import torch\n",
    "import torch.nn as nn\n",
    "\n",
    "from matplotlib import pyplot as plt"
   ]
  },
  {
   "cell_type": "code",
   "execution_count": 2,
   "metadata": {},
   "outputs": [
    {
     "data": {
      "text/plain": [
       "tensor([-25.6904, -20.2177, -19.7443, -19.3185, -18.9480, -18.0160, -16.8755,\n",
       "        -16.5365, -15.7171, -14.9108, -11.7892, -11.6456, -10.7193, -10.3939,\n",
       "         -9.7179,  -9.6688,  -9.2321,  -9.1547,  -9.0757,  -8.3452,  -8.3361,\n",
       "         -8.3114,  -8.1470,  -7.5353,  -7.1676,  -6.5757,  -6.2457,  -6.1445,\n",
       "         -5.8544,  -5.7630,  -5.6975,  -5.6913,  -5.0997,  -4.9954,  -4.5981,\n",
       "         -3.8279,  -3.7184,  -2.9677,  -2.5920,  -2.4583,  -2.2692,  -2.0734,\n",
       "         -1.6500,  -0.5338,  -0.5010,  -0.2034,   0.7071,   0.7237,   0.9975,\n",
       "          1.4366,   1.9253,   2.2492,   2.5399,   2.5617,   2.6674,   2.7355,\n",
       "          2.7937,   3.3385,   3.7720,   3.9891,   4.1511,   4.1596,   4.1718,\n",
       "          4.2846,   4.3704,   4.6273,   5.0400,   5.8256,   5.8663,   5.8766,\n",
       "          5.8808,   6.2981,   6.3416,   6.4792,   6.5389,   6.8359,   6.8647,\n",
       "          7.7284,   7.9204,   8.0072,   8.3041,   9.7847,  10.3277,  10.5750,\n",
       "         10.9994,  11.1508,  11.2463,  11.8919,  12.2286,  12.8572,  12.8969,\n",
       "         13.4708,  13.6683,  15.7734,  16.1921,  18.6092,  20.4178,  20.6221,\n",
       "         22.8731,  23.1591])"
      ]
     },
     "execution_count": 2,
     "metadata": {},
     "output_type": "execute_result"
    }
   ],
   "source": [
    "x = torch.sort(torch.randn(100) * 10)[0]\n",
    "\n",
    "x"
   ]
  },
  {
   "cell_type": "markdown",
   "metadata": {},
   "source": [
    "## Sigmoid\n",
    "\n",
    "$$\n",
    "\\sigma(x)=\\frac{1}{1+e^{-x}}\n",
    "$$"
   ]
  },
  {
   "cell_type": "code",
   "execution_count": 3,
   "metadata": {},
   "outputs": [
    {
     "name": "stdout",
     "output_type": "stream",
     "text": [
      "tensor([6.9633e-12, 1.6579e-09, 2.6617e-09, 4.0745e-09, 5.9020e-09, 1.4988e-08,\n",
      "        4.6890e-08, 6.5807e-08, 1.4933e-07, 3.3443e-07, 7.5862e-06, 8.7572e-06,\n",
      "        2.2113e-05, 3.0619e-05, 6.0192e-05, 6.3219e-05, 9.7841e-05, 1.0571e-04,\n",
      "        1.1440e-04, 2.3748e-04, 2.3965e-04, 2.4563e-04, 2.8950e-04, 5.3360e-04,\n",
      "        7.7058e-04, 1.3920e-03, 1.9351e-03, 2.1406e-03, 2.8592e-03, 3.1319e-03,\n",
      "        3.3430e-03, 3.3640e-03, 6.0618e-03, 6.7237e-03, 9.9709e-03, 2.1292e-02,\n",
      "        2.3697e-02, 4.8905e-02, 6.9653e-02, 7.8830e-02, 9.3704e-02, 1.1170e-01,\n",
      "        1.6111e-01, 3.6962e-01, 3.7732e-01, 4.4933e-01, 6.6977e-01, 6.7342e-01,\n",
      "        7.3057e-01, 8.0793e-01, 8.7273e-01, 9.0458e-01, 9.2689e-01, 9.2835e-01,\n",
      "        9.3508e-01, 9.3909e-01, 9.4233e-01, 9.6573e-01, 9.7751e-01, 9.8182e-01,\n",
      "        9.8450e-01, 9.8463e-01, 9.8481e-01, 9.8641e-01, 9.8751e-01, 9.9031e-01,\n",
      "        9.9357e-01, 9.9706e-01, 9.9717e-01, 9.9720e-01, 9.9722e-01, 9.9816e-01,\n",
      "        9.9824e-01, 9.9847e-01, 9.9856e-01, 9.9893e-01, 9.9896e-01, 9.9956e-01,\n",
      "        9.9964e-01, 9.9967e-01, 9.9975e-01, 9.9994e-01, 9.9997e-01, 9.9997e-01,\n",
      "        9.9998e-01, 9.9999e-01, 9.9999e-01, 9.9999e-01, 1.0000e+00, 1.0000e+00,\n",
      "        1.0000e+00, 1.0000e+00, 1.0000e+00, 1.0000e+00, 1.0000e+00, 1.0000e+00,\n",
      "        1.0000e+00, 1.0000e+00, 1.0000e+00, 1.0000e+00])\n"
     ]
    }
   ],
   "source": [
    "act = nn.Sigmoid()\n",
    "print(act(x))"
   ]
  },
  {
   "cell_type": "code",
   "execution_count": 4,
   "metadata": {
    "scrolled": true
   },
   "outputs": [
    {
     "name": "stdout",
     "output_type": "stream",
     "text": [
      "tensor([6.9633e-12, 1.6579e-09, 2.6617e-09, 4.0745e-09, 5.9020e-09, 1.4988e-08,\n",
      "        4.6890e-08, 6.5807e-08, 1.4933e-07, 3.3443e-07, 7.5862e-06, 8.7572e-06,\n",
      "        2.2113e-05, 3.0619e-05, 6.0192e-05, 6.3219e-05, 9.7841e-05, 1.0571e-04,\n",
      "        1.1440e-04, 2.3748e-04, 2.3965e-04, 2.4563e-04, 2.8950e-04, 5.3360e-04,\n",
      "        7.7058e-04, 1.3920e-03, 1.9351e-03, 2.1406e-03, 2.8592e-03, 3.1319e-03,\n",
      "        3.3430e-03, 3.3640e-03, 6.0618e-03, 6.7237e-03, 9.9709e-03, 2.1292e-02,\n",
      "        2.3697e-02, 4.8905e-02, 6.9653e-02, 7.8830e-02, 9.3704e-02, 1.1170e-01,\n",
      "        1.6111e-01, 3.6962e-01, 3.7732e-01, 4.4933e-01, 6.6977e-01, 6.7342e-01,\n",
      "        7.3057e-01, 8.0793e-01, 8.7273e-01, 9.0458e-01, 9.2689e-01, 9.2835e-01,\n",
      "        9.3508e-01, 9.3909e-01, 9.4233e-01, 9.6573e-01, 9.7751e-01, 9.8182e-01,\n",
      "        9.8450e-01, 9.8463e-01, 9.8481e-01, 9.8641e-01, 9.8751e-01, 9.9031e-01,\n",
      "        9.9357e-01, 9.9706e-01, 9.9717e-01, 9.9720e-01, 9.9722e-01, 9.9816e-01,\n",
      "        9.9824e-01, 9.9847e-01, 9.9856e-01, 9.9893e-01, 9.9896e-01, 9.9956e-01,\n",
      "        9.9964e-01, 9.9967e-01, 9.9975e-01, 9.9994e-01, 9.9997e-01, 9.9997e-01,\n",
      "        9.9998e-01, 9.9999e-01, 9.9999e-01, 9.9999e-01, 1.0000e+00, 1.0000e+00,\n",
      "        1.0000e+00, 1.0000e+00, 1.0000e+00, 1.0000e+00, 1.0000e+00, 1.0000e+00,\n",
      "        1.0000e+00, 1.0000e+00, 1.0000e+00, 1.0000e+00])\n"
     ]
    }
   ],
   "source": [
    "print(torch.sigmoid(x))"
   ]
  },
  {
   "cell_type": "code",
   "execution_count": 5,
   "metadata": {},
   "outputs": [
    {
     "data": {
      "image/png": "[encoded data removed]",
      "text/plain": [
       "<Figure size 432x288 with 1 Axes>"
      ]
     },
     "metadata": {
      "needs_background": "light"
     },
     "output_type": "display_data"
    }
   ],
   "source": [
    "plt.plot(x.numpy(), torch.sigmoid(x).numpy())\n",
    "plt.show()"
   ]
  },
  {
   "cell_type": "markdown",
   "metadata": {},
   "source": [
    "## Hypoerbolic Tangent (TanH)\n",
    "\n",
    "$$\n",
    "\\text{tanh}(x)=\\frac{e^x-e^{-x}}{e^x+e^{-x}}\n",
    "$$"
   ]
  },
  {
   "cell_type": "code",
   "execution_count": 6,
   "metadata": {},
   "outputs": [
    {
     "name": "stdout",
     "output_type": "stream",
     "text": [
      "tensor([-1.0000, -1.0000, -1.0000, -1.0000, -1.0000, -1.0000, -1.0000, -1.0000,\n",
      "        -1.0000, -1.0000, -1.0000, -1.0000, -1.0000, -1.0000, -1.0000, -1.0000,\n",
      "        -1.0000, -1.0000, -1.0000, -1.0000, -1.0000, -1.0000, -1.0000, -1.0000,\n",
      "        -1.0000, -1.0000, -1.0000, -1.0000, -1.0000, -1.0000, -1.0000, -1.0000,\n",
      "        -0.9999, -0.9999, -0.9998, -0.9991, -0.9988, -0.9947, -0.9889, -0.9855,\n",
      "        -0.9788, -0.9689, -0.9289, -0.4883, -0.4629, -0.2006,  0.6089,  0.6192,\n",
      "         0.7605,  0.8930,  0.9583,  0.9780,  0.9876,  0.9882,  0.9904,  0.9916,\n",
      "         0.9925,  0.9975,  0.9989,  0.9993,  0.9995,  0.9995,  0.9995,  0.9996,\n",
      "         0.9997,  0.9998,  0.9999,  1.0000,  1.0000,  1.0000,  1.0000,  1.0000,\n",
      "         1.0000,  1.0000,  1.0000,  1.0000,  1.0000,  1.0000,  1.0000,  1.0000,\n",
      "         1.0000,  1.0000,  1.0000,  1.0000,  1.0000,  1.0000,  1.0000,  1.0000,\n",
      "         1.0000,  1.0000,  1.0000,  1.0000,  1.0000,  1.0000,  1.0000,  1.0000,\n",
      "         1.0000,  1.0000,  1.0000,  1.0000])\n"
     ]
    }
   ],
   "source": [
    "act = nn.Tanh()\n",
    "print(act(x))"
   ]
  },
  {
   "cell_type": "code",
   "execution_count": 7,
   "metadata": {},
   "outputs": [
    {
     "name": "stdout",
     "output_type": "stream",
     "text": [
      "tensor([-1.0000, -1.0000, -1.0000, -1.0000, -1.0000, -1.0000, -1.0000, -1.0000,\n",
      "        -1.0000, -1.0000, -1.0000, -1.0000, -1.0000, -1.0000, -1.0000, -1.0000,\n",
      "        -1.0000, -1.0000, -1.0000, -1.0000, -1.0000, -1.0000, -1.0000, -1.0000,\n",
      "        -1.0000, -1.0000, -1.0000, -1.0000, -1.0000, -1.0000, -1.0000, -1.0000,\n",
      "        -0.9999, -0.9999, -0.9998, -0.9991, -0.9988, -0.9947, -0.9889, -0.9855,\n",
      "        -0.9788, -0.9689, -0.9289, -0.4883, -0.4629, -0.2006,  0.6089,  0.6192,\n",
      "         0.7605,  0.8930,  0.9583,  0.9780,  0.9876,  0.9882,  0.9904,  0.9916,\n",
      "         0.9925,  0.9975,  0.9989,  0.9993,  0.9995,  0.9995,  0.9995,  0.9996,\n",
      "         0.9997,  0.9998,  0.9999,  1.0000,  1.0000,  1.0000,  1.0000,  1.0000,\n",
      "         1.0000,  1.0000,  1.0000,  1.0000,  1.0000,  1.0000,  1.0000,  1.0000,\n",
      "         1.0000,  1.0000,  1.0000,  1.0000,  1.0000,  1.0000,  1.0000,  1.0000,\n",
      "         1.0000,  1.0000,  1.0000,  1.0000,  1.0000,  1.0000,  1.0000,  1.0000,\n",
      "         1.0000,  1.0000,  1.0000,  1.0000])\n"
     ]
    }
   ],
   "source": [
    "print(torch.tanh(x))"
   ]
  },
  {
   "cell_type": "code",
   "execution_count": 8,
   "metadata": {},
   "outputs": [
    {
     "data": {
      "image/png": "[encoded data removed]",
      "text/plain": [
       "<Figure size 432x288 with 1 Axes>"
      ]
     },
     "metadata": {
      "needs_background": "light"
     },
     "output_type": "display_data"
    }
   ],
   "source": [
    "plt.plot(x.numpy(), torch.tanh(x).numpy())\n",
    "plt.show()"
   ]
  }
 ],
 "metadata": {
  "kernelspec": {
   "display_name": "Python 3",
   "language": "python",
   "name": "python3"
  },
  "language_info": {
   "codemirror_mode": {
    "name": "ipython",
    "version": 3
   },
   "file_extension": ".py",
   "mimetype": "text/x-python",
   "name": "python",
   "nbconvert_exporter": "python",
   "pygments_lexer": "ipython3",
   "version": "3.7.6"
  }
 },
 "nbformat": 4,
 "nbformat_minor": 2
}
